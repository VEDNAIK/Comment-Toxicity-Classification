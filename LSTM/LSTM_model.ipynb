{
 "cells": [
  {
   "cell_type": "code",
   "execution_count": 1,
   "metadata": {
    "execution": {
     "iopub.execute_input": "2021-03-09T20:10:33.659939Z",
     "iopub.status.busy": "2021-03-09T20:10:33.659274Z",
     "iopub.status.idle": "2021-03-09T20:10:33.666407Z",
     "shell.execute_reply": "2021-03-09T20:10:33.665502Z"
    },
    "papermill": {
     "duration": 0.027971,
     "end_time": "2021-03-09T20:10:33.666686",
     "exception": false,
     "start_time": "2021-03-09T20:10:33.638715",
     "status": "completed"
    },
    "tags": []
   },
   "outputs": [],
   "source": [
    "# This Python 3 environment comes with many helpful analytics libraries installed\n",
    "# It is defined by the kaggle/python Docker image: https://github.com/kaggle/docker-python\n",
    "# For example, here's several helpful packages to load\n",
    "\n",
    "import numpy as np # linear algebra\n",
    "import pandas as pd # data processing, CSV file I/O (e.g. pd.read_csv)\n",
    "\n",
    "# Input data files are available in the read-only \"../input/\" directory\n",
    "# For example, running this (by clicking run or pressing Shift+Enter) will list all files under the input directory\n",
    "\n",
    "\n",
    "\n",
    "# You can write up to 20GB to the current directory (/kaggle/working/) that gets preserved as output when you create a version using \"Save & Run All\" \n",
    "# You can also write temporary files to /kaggle/temp/, but they won't be saved outside of the current session"
   ]
  },
  {
   "cell_type": "code",
   "execution_count": 2,
   "metadata": {
    "execution": {
     "iopub.execute_input": "2021-03-09T20:10:38.434450Z",
     "iopub.status.busy": "2021-03-09T20:10:38.433686Z",
     "iopub.status.idle": "2021-03-09T20:10:45.537423Z",
     "shell.execute_reply": "2021-03-09T20:10:45.536891Z"
    },
    "papermill": {
     "duration": 7.128449,
     "end_time": "2021-03-09T20:10:45.537568",
     "exception": false,
     "start_time": "2021-03-09T20:10:38.409119",
     "status": "completed"
    },
    "tags": []
   },
   "outputs": [],
   "source": [
    "### Import Libraries \n",
    "import re\n",
    "import matplotlib\n",
    "import numpy as np\n",
    "import matplotlib.pyplot as plt\n",
    "import pandas as pd\n",
    "from nltk.corpus import stopwords\n",
    "stop_words = set(stopwords.words('english'))\n",
    "from sklearn.svm import LinearSVC\n",
    "import seaborn as sns\n",
    "import pandas as pd\n",
    "from keras.preprocessing.text import Tokenizer\n",
    "from keras.preprocessing.sequence import pad_sequences\n",
    "from keras.utils import to_categorical\n",
    "from keras.models import Sequential\n",
    "from keras.layers import Dense, LSTM, Embedding, Input\n",
    "from sklearn.model_selection import train_test_split\n"
   ]
  },
  {
   "cell_type": "code",
   "execution_count": 3,
   "metadata": {
    "execution": {
     "iopub.execute_input": "2021-03-09T20:10:45.580523Z",
     "iopub.status.busy": "2021-03-09T20:10:45.579726Z",
     "iopub.status.idle": "2021-03-09T20:10:47.253553Z",
     "shell.execute_reply": "2021-03-09T20:10:47.252983Z"
    },
    "papermill": {
     "duration": 1.699932,
     "end_time": "2021-03-09T20:10:47.253709",
     "exception": false,
     "start_time": "2021-03-09T20:10:45.553777",
     "status": "completed"
    },
    "tags": []
   },
   "outputs": [],
   "source": [
    "### Reading csv data files using pandas dataframe \n",
    "\n",
    "train = pd.read_csv(\"/Users/ved/Desktop/Sem 7/DL Project/Dataset/train.csv\", encoding = \"ISO-8859-1\")\n",
    "test = pd.read_csv(\"/Users/ved/Desktop/Sem 7/DL Project/Dataset/test.csv\", encoding = \"ISO-8859-1\")"
   ]
  },
  {
   "cell_type": "code",
   "execution_count": 4,
   "metadata": {
    "execution": {
     "iopub.execute_input": "2021-03-09T20:10:47.293076Z",
     "iopub.status.busy": "2021-03-09T20:10:47.292398Z",
     "iopub.status.idle": "2021-03-09T20:10:47.383530Z",
     "shell.execute_reply": "2021-03-09T20:10:47.382957Z"
    },
    "papermill": {
     "duration": 0.112577,
     "end_time": "2021-03-09T20:10:47.383676",
     "exception": false,
     "start_time": "2021-03-09T20:10:47.271099",
     "status": "completed"
    },
    "tags": []
   },
   "outputs": [
    {
     "name": "stdout",
     "output_type": "stream",
     "text": [
      "Nulls in training dataset id               0\n",
      "comment_text     0\n",
      "toxic            0\n",
      "severe_toxic     0\n",
      "obscene          0\n",
      "threat           0\n",
      "insult           0\n",
      "identity_hate    0\n",
      "dtype: int64\n",
      "\n",
      "Nulls in test dataset id              0\n",
      "comment_text    0\n",
      "dtype: int64\n"
     ]
    }
   ],
   "source": [
    "### Checking nulls in both the datasets\n",
    "\n",
    "print(\"Nulls in training dataset\",train.isnull().sum())\n",
    "print(\"\\nNulls in test dataset\",test.isnull().sum())\n",
    "\n",
    "### There are no missing values in both the datasets"
   ]
  },
  {
   "cell_type": "code",
   "execution_count": 5,
   "metadata": {
    "execution": {
     "iopub.execute_input": "2021-03-09T20:10:47.429226Z",
     "iopub.status.busy": "2021-03-09T20:10:47.428593Z",
     "iopub.status.idle": "2021-03-09T20:10:47.443431Z",
     "shell.execute_reply": "2021-03-09T20:10:47.443929Z"
    },
    "papermill": {
     "duration": 0.043497,
     "end_time": "2021-03-09T20:10:47.444135",
     "exception": false,
     "start_time": "2021-03-09T20:10:47.400638",
     "status": "completed"
    },
    "tags": []
   },
   "outputs": [],
   "source": [
    "### Before cleaning the dataset I would like to perform EDA(Exploratory data analysis) by performing data visualization to understand\n",
    "### the distribution of different classes. I will be performing EDA on training dataset\n",
    "\n",
    "categorywise_data = train.drop(['id', 'comment_text'], axis=1)     ### Removed unnecessary columns - id and comment_text\n",
    "counts_category = []                                               ### A list that contains tuple which consists of class label and number of comments for that particular class \n",
    "categories = list(categorywise_data.columns.values)\n",
    "for i in categories:\n",
    "    counts_category.append((i, categorywise_data[i].sum()))\n",
    "    \n",
    "dataframe = pd.DataFrame(counts_category, columns=['Labels', 'number_of_comments'])   ### Dataframe made up of category and total number of comments"
   ]
  },
  {
   "cell_type": "code",
   "execution_count": 6,
   "metadata": {
    "execution": {
     "iopub.execute_input": "2021-03-09T20:10:47.482846Z",
     "iopub.status.busy": "2021-03-09T20:10:47.482165Z",
     "iopub.status.idle": "2021-03-09T20:10:47.899040Z",
     "shell.execute_reply": "2021-03-09T20:10:47.899550Z"
    },
    "papermill": {
     "duration": 0.437986,
     "end_time": "2021-03-09T20:10:47.899746",
     "exception": false,
     "start_time": "2021-03-09T20:10:47.461760",
     "status": "completed"
    },
    "tags": []
   },
   "outputs": [
    {
     "data": {
      "text/plain": [
       "Text(0.5, 0, 'Labels')"
      ]
     },
     "execution_count": 6,
     "metadata": {},
     "output_type": "execute_result"
    },
    {
     "data": {
      "image/png": "[encoded data removed]",
      "text/plain": [
       "<Figure size 800x800 with 1 Axes>"
      ]
     },
     "metadata": {},
     "output_type": "display_data"
    }
   ],
   "source": [
    "### Visualization 1\n",
    "\n",
    "### Bar graph of total number of comments per label \n",
    "### This visualization is helpful in identifying the total number of comments per label\n",
    "dataframe.plot(x='Labels', y='number_of_comments', kind='bar',figsize=(8,8))\n",
    "plt.title(\"Number of comments per category\")\n",
    "plt.ylabel('No. of Occurrences', fontsize=12)\n",
    "plt.xlabel('Labels', fontsize=12)\n",
    "\n",
    "### From the below graph we can observe that most of the comments having toxic label. \n",
    "### Threat label is having lowest no. of comments"
   ]
  },
  {
   "cell_type": "code",
   "execution_count": 7,
   "metadata": {
    "execution": {
     "iopub.execute_input": "2021-03-09T20:10:47.949043Z",
     "iopub.status.busy": "2021-03-09T20:10:47.948111Z",
     "iopub.status.idle": "2021-03-09T20:10:48.186249Z",
     "shell.execute_reply": "2021-03-09T20:10:48.185502Z"
    },
    "papermill": {
     "duration": 0.268003,
     "end_time": "2021-03-09T20:10:48.186415",
     "exception": false,
     "start_time": "2021-03-09T20:10:47.918412",
     "status": "completed"
    },
    "tags": []
   },
   "outputs": [
    {
     "data": {
      "text/html": [
       "<div>\n",
       "<style scoped>\n",
       "    .dataframe tbody tr th:only-of-type {\n",
       "        vertical-align: middle;\n",
       "    }\n",
       "\n",
       "    .dataframe tbody tr th {\n",
       "        vertical-align: top;\n",
       "    }\n",
       "\n",
       "    .dataframe thead th {\n",
       "        text-align: right;\n",
       "    }\n",
       "</style>\n",
       "<table border=\"1\" class=\"dataframe\">\n",
       "  <thead>\n",
       "    <tr style=\"text-align: right;\">\n",
       "      <th></th>\n",
       "      <th>0</th>\n",
       "      <th>Total no. of sentences</th>\n",
       "      <th>Total No. of labels in a sentence</th>\n",
       "    </tr>\n",
       "  </thead>\n",
       "  <tbody>\n",
       "    <tr>\n",
       "      <th>0</th>\n",
       "      <td>143346</td>\n",
       "      <td>143346</td>\n",
       "      <td>0</td>\n",
       "    </tr>\n",
       "    <tr>\n",
       "      <th>1</th>\n",
       "      <td>6360</td>\n",
       "      <td>6360</td>\n",
       "      <td>1</td>\n",
       "    </tr>\n",
       "    <tr>\n",
       "      <th>3</th>\n",
       "      <td>4209</td>\n",
       "      <td>4209</td>\n",
       "      <td>3</td>\n",
       "    </tr>\n",
       "    <tr>\n",
       "      <th>2</th>\n",
       "      <td>3480</td>\n",
       "      <td>3480</td>\n",
       "      <td>2</td>\n",
       "    </tr>\n",
       "    <tr>\n",
       "      <th>4</th>\n",
       "      <td>1760</td>\n",
       "      <td>1760</td>\n",
       "      <td>4</td>\n",
       "    </tr>\n",
       "    <tr>\n",
       "      <th>5</th>\n",
       "      <td>385</td>\n",
       "      <td>385</td>\n",
       "      <td>5</td>\n",
       "    </tr>\n",
       "    <tr>\n",
       "      <th>6</th>\n",
       "      <td>31</td>\n",
       "      <td>31</td>\n",
       "      <td>6</td>\n",
       "    </tr>\n",
       "  </tbody>\n",
       "</table>\n",
       "</div>"
      ],
      "text/plain": [
       "        0  Total no. of sentences  Total No. of labels in a sentence\n",
       "0  143346                  143346                                  0\n",
       "1    6360                    6360                                  1\n",
       "3    4209                    4209                                  3\n",
       "2    3480                    3480                                  2\n",
       "4    1760                    1760                                  4\n",
       "5     385                     385                                  5\n",
       "6      31                      31                                  6"
      ]
     },
     "execution_count": 7,
     "metadata": {},
     "output_type": "execute_result"
    },
    {
     "data": {
      "image/png": "[encoded data removed]",
      "text/plain": [
       "<Figure size 800x800 with 1 Axes>"
      ]
     },
     "metadata": {},
     "output_type": "display_data"
    }
   ],
   "source": [
    "### Visualization 2\n",
    "\n",
    "### Bar graph of Total No. of labels in a sentence against Total no. of sentences\n",
    "### This visualization is helpful in identifying whether a sentence belongs to only one category or many categories\n",
    "\n",
    "dataframe = pd.DataFrame(pd.DataFrame(train[train.columns[2:]].sum(axis=1)).reset_index()[0].value_counts())\n",
    "dataframe[\"Total no. of sentences\"]=dataframe[0]\n",
    "dataframe[\"Total No. of labels in a sentence\"]=dataframe.index\n",
    "dataframe.plot(x=\"Total No. of labels in a sentence\", y=\"Total no. of sentences\", kind='bar',figsize=(8,8))\n",
    "plt.title(\"No of comments based on the count of labels\")\n",
    "plt.ylabel('Total no. of sentences', fontsize=12)\n",
    "plt.xlabel('Total No. of labels in a sentence', fontsize=12)\n",
    "dataframe\n",
    "\n",
    "### From the below graph we can see that 1,43,346 out of 1,59,571 sentences does not have any labels(class 0).\n",
    "### we can observe that a single sentence can have multiple labels. It can be a toxic sentence or it can be a toxic as well as obscene senetence."
   ]
  },
  {
   "cell_type": "code",
   "execution_count": 8,
   "metadata": {
    "execution": {
     "iopub.execute_input": "2021-03-09T20:10:48.252461Z",
     "iopub.status.busy": "2021-03-09T20:10:48.249987Z",
     "iopub.status.idle": "2021-03-09T20:10:48.919359Z",
     "shell.execute_reply": "2021-03-09T20:10:48.918728Z"
    },
    "papermill": {
     "duration": 0.712612,
     "end_time": "2021-03-09T20:10:48.919501",
     "exception": false,
     "start_time": "2021-03-09T20:10:48.206889",
     "status": "completed"
    },
    "tags": []
   },
   "outputs": [
    {
     "data": {
      "text/plain": [
       "<AxesSubplot: ylabel='count'>"
      ]
     },
     "execution_count": 8,
     "metadata": {},
     "output_type": "execute_result"
    },
    {
     "data": {
      "image/png": "[encoded data removed]",
      "text/plain": [
       "<Figure size 1500x1200 with 6 Axes>"
      ]
     },
     "metadata": {},
     "output_type": "display_data"
    }
   ],
   "source": [
    "### Visualization 3\n",
    "\n",
    "### Graph of individual class against the total no. of labelled and unlabelled sentences for the same class\n",
    "\n",
    "fig, plots = plt.subplots(2,3,figsize=(15,12))\n",
    "plot1, plot2, plot3, plot4, plot5, plot6 = plots.flatten()\n",
    "sns.countplot(train['obscene'], ax = plot1)\n",
    "sns.countplot(train['threat'], ax = plot2)\n",
    "sns.countplot(train['insult'], ax = plot3)\n",
    "sns.countplot(train['identity_hate'], ax = plot4)\n",
    "sns.countplot(train['toxic'], ax = plot5)\n",
    "sns.countplot(train['severe_toxic'], ax = plot6)\n",
    "\n",
    "### From this graph it can be concluded that every class(category) is having higher no. of unlabelled sentences(0) as compared\n",
    "### to labelled sentences(1)"
   ]
  },
  {
   "cell_type": "code",
   "execution_count": 9,
   "metadata": {
    "execution": {
     "iopub.execute_input": "2021-03-09T20:10:48.975288Z",
     "iopub.status.busy": "2021-03-09T20:10:48.974560Z",
     "iopub.status.idle": "2021-03-09T20:10:49.496302Z",
     "shell.execute_reply": "2021-03-09T20:10:49.497051Z"
    },
    "papermill": {
     "duration": 0.554164,
     "end_time": "2021-03-09T20:10:49.497297",
     "exception": false,
     "start_time": "2021-03-09T20:10:48.943133",
     "status": "completed"
    },
    "tags": []
   },
   "outputs": [
    {
     "data": {
      "image/png": "[encoded data removed]",
      "text/plain": [
       "<Figure size 640x480 with 2 Axes>"
      ]
     },
     "metadata": {},
     "output_type": "display_data"
    }
   ],
   "source": [
    "### Visualization 4\n",
    "\n",
    "### Correlation between different variables\n",
    "### Correlation helps us finding relationship/dependency between different variables. \n",
    "\n",
    "target_data = train.drop(['id', 'comment_text'], axis=1)\n",
    "corrMatrix = target_data.corr()\n",
    "sns.heatmap(corrMatrix, annot=True)\n",
    "plt.show()\n",
    "\n",
    "### Correlation coefficient ranges from -1 to 1. Values always range between -1 imply strong negative relationship\n",
    "### between variables and +1 imply a strong positive relationship between variables. \n",
    "### Values at or close to zero imply weak or no linear relationship. \n",
    "### From the correlation matrix(graph), it can be concluded that some labels are highely correlated. Those varibles are mentioned below \n",
    "### (Correlation coefficient for insult-obscene is 0.74, Correlation coefficient for toxic-obscene is 0.68 and Correlation coefficient for toxic-insult is 0.65)."
   ]
  },
  {
   "cell_type": "code",
   "execution_count": 10,
   "metadata": {
    "execution": {
     "iopub.execute_input": "2021-03-09T20:10:49.553508Z",
     "iopub.status.busy": "2021-03-09T20:10:49.552523Z",
     "iopub.status.idle": "2021-03-09T20:10:49.556132Z",
     "shell.execute_reply": "2021-03-09T20:10:49.556623Z"
    },
    "papermill": {
     "duration": 0.03153,
     "end_time": "2021-03-09T20:10:49.556800",
     "exception": false,
     "start_time": "2021-03-09T20:10:49.525270",
     "status": "completed"
    },
    "tags": []
   },
   "outputs": [],
   "source": [
    "### From visualization we can conclude following things\n",
    "### 1) A single sentence can have multiple labels (categories)\n",
    "### 2) Some labels are highely correlated to each other\n",
    "### 3) This is multi label classification problem "
   ]
  },
  {
   "cell_type": "code",
   "execution_count": 12,
   "metadata": {
    "execution": {
     "iopub.execute_input": "2021-03-09T20:11:25.100366Z",
     "iopub.status.busy": "2021-03-09T20:11:25.099657Z",
     "iopub.status.idle": "2021-03-09T20:11:25.109572Z",
     "shell.execute_reply": "2021-03-09T20:11:25.110036Z"
    },
    "papermill": {
     "duration": 0.037581,
     "end_time": "2021-03-09T20:11:25.110254",
     "exception": false,
     "start_time": "2021-03-09T20:11:25.072673",
     "status": "completed"
    },
    "tags": []
   },
   "outputs": [],
   "source": [
    "### Splitting up the labels and data\n",
    "### Training dataset is splitted into 2 parts. 1st part includes the training data(train_data) and 2nd part includes labels(train_label) \n",
    "### associated with the training data\n",
    "### Test dataset is having only 1 part i.e. test data which is used to predict the labels. \n",
    "\n",
    "train_data = train[\"comment_text\"]\n",
    "test_data = test[\"comment_text\"]\n",
    "train_label=train[['toxic', 'severe_toxic', 'obscene', 'threat','insult', 'identity_hate']]\n"
   ]
  },
  {
   "cell_type": "code",
   "execution_count": 22,
   "metadata": {},
   "outputs": [
    {
     "name": "stderr",
     "output_type": "stream",
     "text": [
      "/var/folders/1m/v10vjxqd235fn30s91s6nnx40000gn/T/ipykernel_13050/50109776.py:8: SettingWithCopyWarning: \n",
      "A value is trying to be set on a copy of a slice from a DataFrame\n",
      "\n",
      "See the caveats in the documentation: https://pandas.pydata.org/pandas-docs/stable/user_guide/indexing.html#returning-a-view-versus-a-copy\n",
      "  df_combined[\"comment\"][i] = ast.literal_eval(df_combined[\"comment\"][i])\n",
      "/var/folders/1m/v10vjxqd235fn30s91s6nnx40000gn/T/ipykernel_13050/50109776.py:11: SettingWithCopyWarning: \n",
      "A value is trying to be set on a copy of a slice from a DataFrame\n",
      "\n",
      "See the caveats in the documentation: https://pandas.pydata.org/pandas-docs/stable/user_guide/indexing.html#returning-a-view-versus-a-copy\n",
      "  df_combined_test[\"comment\"][i] = ast.literal_eval(df_combined_test[\"comment\"][i])\n"
     ]
    }
   ],
   "source": [
    "import ast\n",
    "from keras.preprocessing import text, sequence\n",
    "from keras.preprocessing.sequence import pad_sequences\n",
    "df_combined = pd.read_csv('/Users/ved/Desktop/Sem 7/DL Project/Tokenized_Data/df_combined.csv')\n",
    "df_combined_test = pd.read_csv('/Users/ved/Desktop/Sem 7/DL Project/Tokenized_Data/df_combined_test.csv')\n",
    "\n",
    "for i in range(len(df_combined['comment'])):\n",
    "    df_combined[\"comment\"][i] = ast.literal_eval(df_combined[\"comment\"][i])\n",
    "\n",
    "for i in range(len(df_combined_test['comment'])):\n",
    "    df_combined_test[\"comment\"][i] = ast.literal_eval(df_combined_test[\"comment\"][i])\n",
    "\n",
    "X_train1 = df_combined['comment']\n",
    "X_test1 = df_combined_test['comment']\n",
    "\n",
    "max_features = 30000\n",
    "maxlen = 150\n",
    "embed_size = 300\n",
    "\n",
    "tokenizer = text.Tokenizer(num_words=max_features)\n",
    "tokenizer.fit_on_texts(list(X_train1) + list(X_test1))\n",
    "X_train = tokenizer.texts_to_sequences(X_train1)\n",
    "X_test = tokenizer.texts_to_sequences(X_test1)\n",
    "x_train = sequence.pad_sequences(X_train, maxlen=maxlen)\n",
    "x_test = sequence.pad_sequences(X_test, maxlen=maxlen)"
   ]
  },
  {
   "cell_type": "code",
   "execution_count": 23,
   "metadata": {},
   "outputs": [
    {
     "name": "stdout",
     "output_type": "stream",
     "text": [
      "Shape of training data (159571, 150)\n",
      "Shape of testing data (63978, 150)\n"
     ]
    }
   ],
   "source": [
    "train_padded = x_train\n",
    "test_padded = x_test\n",
    "print(\"Shape of training data\",train_padded.shape)\n",
    "print(\"Shape of testing data\",test_padded.shape)\n"
   ]
  },
  {
   "cell_type": "code",
   "execution_count": 13,
   "metadata": {
    "execution": {
     "iopub.execute_input": "2021-03-09T20:11:25.161621Z",
     "iopub.status.busy": "2021-03-09T20:11:25.160935Z",
     "iopub.status.idle": "2021-03-09T20:11:41.858171Z",
     "shell.execute_reply": "2021-03-09T20:11:41.857515Z"
    },
    "papermill": {
     "duration": 16.72358,
     "end_time": "2021-03-09T20:11:41.858337",
     "exception": false,
     "start_time": "2021-03-09T20:11:25.134757",
     "status": "completed"
    },
    "tags": []
   },
   "outputs": [],
   "source": [
    "### Creating corpus of words and coverting it into integer and then susbstituing it in sentences - prepare tokenizer\n",
    "tokenizer = Tokenizer(num_words = 40000) #40000 words are used here\n",
    "tokenizer.fit_on_texts(train_data)\n",
    "\n",
    "#convert each text into array of integers with help of tokenizer.\n",
    "train_final = tokenizer.texts_to_sequences(train_data)\n",
    "test_final = tokenizer.texts_to_sequences(test_data)"
   ]
  },
  {
   "cell_type": "code",
   "execution_count": 14,
   "metadata": {
    "execution": {
     "iopub.execute_input": "2021-03-09T20:11:41.920697Z",
     "iopub.status.busy": "2021-03-09T20:11:41.915628Z",
     "iopub.status.idle": "2021-03-09T20:11:45.474218Z",
     "shell.execute_reply": "2021-03-09T20:11:45.473352Z"
    },
    "papermill": {
     "duration": 3.591319,
     "end_time": "2021-03-09T20:11:45.474432",
     "exception": false,
     "start_time": "2021-03-09T20:11:41.883113",
     "status": "completed"
    },
    "tags": []
   },
   "outputs": [
    {
     "name": "stdout",
     "output_type": "stream",
     "text": [
      "Shape of training data (159571, 150)\n",
      "Shape of testing data (153164, 150)\n"
     ]
    }
   ],
   "source": [
    "### Padding - Every sentence is unequal in length. We need to have all the sentence equal in lengths\n",
    "### If length of sentence is less than 150 then padding will increase sentence length to 150 by adding zeros, if its greater\n",
    "### than 150 then it will reduce the length of sentence to 150 by trimming the words\n",
    "\n",
    "train_padded =pad_sequences(train_final, maxlen=150)\n",
    "test_padded =pad_sequences(test_final, maxlen=150)\n",
    "print(\"Shape of training data\",train_padded.shape)\n",
    "print(\"Shape of testing data\",test_padded.shape)\n"
   ]
  },
  {
   "cell_type": "code",
   "execution_count": 24,
   "metadata": {
    "execution": {
     "iopub.execute_input": "2021-03-09T20:11:45.530359Z",
     "iopub.status.busy": "2021-03-09T20:11:45.529714Z",
     "iopub.status.idle": "2021-03-09T20:11:46.153109Z",
     "shell.execute_reply": "2021-03-09T20:11:46.151891Z"
    },
    "papermill": {
     "duration": 0.653823,
     "end_time": "2021-03-09T20:11:46.153364",
     "exception": false,
     "start_time": "2021-03-09T20:11:45.499541",
     "status": "completed"
    },
    "tags": []
   },
   "outputs": [
    {
     "name": "stdout",
     "output_type": "stream",
     "text": [
      "Model: \"sequential_1\"\n",
      "_________________________________________________________________\n",
      " Layer (type)                Output Shape              Param #   \n",
      "=================================================================\n",
      " embedding_1 (Embedding)     (None, None, 128)         5120000   \n",
      "                                                                 \n",
      " lstm_2 (LSTM)               (None, None, 64)          49408     \n",
      "                                                                 \n",
      " lstm_3 (LSTM)               (None, 64)                33024     \n",
      "                                                                 \n",
      " dense_1 (Dense)             (None, 6)                 390       \n",
      "                                                                 \n",
      "=================================================================\n",
      "Total params: 5202822 (19.85 MB)\n",
      "Trainable params: 5202822 (19.85 MB)\n",
      "Non-trainable params: 0 (0.00 Byte)\n",
      "_________________________________________________________________\n"
     ]
    }
   ],
   "source": [
    "### Building a model\n",
    "### I have built a sequential model using LSTM. Initial layer contains a word embedding layer having 128 hidden units. \n",
    "### Input to the LSTM model is given in the shape of an array of (159571, 150). There are 6 main classes and every class is having 2 sub classes.\n",
    "### For every Input observation, there are 6 labels. \n",
    "### I have used 2 LSTM layer with 64 hidden units. 1 Dense layer which is an output layer. Dropout probability is set to 0.2 for\n",
    "### 2 lSTM layers which will dropout the 20 percent of neuron automatically while training.Dropout resolves the problem of overfitting. \n",
    "### Output layer contains 6 hidden units. I have used sigmoid activation function in the output layer. The reason behind using\n",
    "### sigmoid activation function in the output layer is because we have multi label classification problem.\n",
    "### Every class(label) is having 2 more classes i.e.0 and 1 to predict. \n",
    "\n",
    "model = Sequential()\n",
    "model.add(Embedding(40000, 128))\n",
    "model.add(LSTM(units = 64, dropout = 0.2,return_sequences=True))\n",
    "model.add(LSTM(units = 64, dropout = 0.2))\n",
    "model.add(Dense(units = 6, activation = 'sigmoid'))\n",
    "model.summary()"
   ]
  },
  {
   "cell_type": "code",
   "execution_count": 25,
   "metadata": {
    "execution": {
     "iopub.execute_input": "2021-03-09T20:11:46.555998Z",
     "iopub.status.busy": "2021-03-09T20:11:46.554885Z",
     "iopub.status.idle": "2021-03-09T20:24:17.867039Z",
     "shell.execute_reply": "2021-03-09T20:24:17.866582Z"
    },
    "papermill": {
     "duration": 751.68918,
     "end_time": "2021-03-09T20:24:17.867167",
     "exception": false,
     "start_time": "2021-03-09T20:11:46.177987",
     "status": "completed"
    },
    "tags": []
   },
   "outputs": [
    {
     "name": "stdout",
     "output_type": "stream",
     "text": [
      "3740/3740 [==============================] - 514s 137ms/step - loss: 0.0688 - auc: 0.9610 - val_loss: 0.0485 - val_auc: 0.9785\n"
     ]
    },
    {
     "data": {
      "text/plain": [
       "<keras.src.callbacks.History at 0x2f75869b0>"
      ]
     },
     "execution_count": 25,
     "metadata": {},
     "output_type": "execute_result"
    }
   ],
   "source": [
    "### Compiling the model and training the model using training dataset\n",
    "### We need to define loss function to measure the loss. Our problem is multi label multi classification problem.\n",
    "### Hence I decided to take loss function as binary_crossentropy. (Reference - https://www.dlology.com/blog/how-to-choose-last-layer-activation-and-loss-function/)\n",
    "### Adam optimizer is best for this problem. I tried RMSprop also but didn't get good accuracy. So decided to go with adam optimizer\n",
    "### accuracy metric has been used. Dataset is divided into training and validation set. \n",
    "### We got an accuracy of 97.79% on validation dataset. batch_size is 32 . \n",
    "### These are the Number of samples that goes through the network at a time and calculates the loss by updating the parameters.\n",
    "### I used only 1 epoch because I got almost 97% accuracy in 1 iteration.\n",
    "### Submission from the competition was evaluated on the basis of AUC. Hence i decided to use AUC metrics.\n",
    "### AUC is area under the curve. It can be calculated from receiver operating curve\n",
    "\n",
    "model.compile(loss = \"binary_crossentropy\", optimizer = \"adam\", metrics = [\"AUC\"])\n",
    "x_train, x_val, y_train, y_val = train_test_split(train_padded, train_label, shuffle = True, random_state = 123)\n",
    "model.fit(x_train, y_train, batch_size = 32, epochs = 1, validation_data = (x_val, y_val))"
   ]
  },
  {
   "cell_type": "code",
   "execution_count": 26,
   "metadata": {},
   "outputs": [
    {
     "name": "stderr",
     "output_type": "stream",
     "text": [
      "/opt/homebrew/lib/python3.10/site-packages/keras/src/engine/training.py:3000: UserWarning: You are saving your model as an HDF5 file via `model.save()`. This file format is considered legacy. We recommend using instead the native Keras format, e.g. `model.save('my_model.keras')`.\n",
      "  saving_api.save_model(\n"
     ]
    }
   ],
   "source": [
    "model.save(\"/Users/ved/Desktop/Sem 7/DL Project/LSTM.h5\")"
   ]
  },
  {
   "cell_type": "code",
   "execution_count": 27,
   "metadata": {
    "execution": {
     "iopub.execute_input": "2021-03-09T20:24:20.078300Z",
     "iopub.status.busy": "2021-03-09T20:24:20.077439Z",
     "iopub.status.idle": "2021-03-09T20:27:43.061287Z",
     "shell.execute_reply": "2021-03-09T20:27:43.060574Z"
    },
    "papermill": {
     "duration": 204.129327,
     "end_time": "2021-03-09T20:27:43.061465",
     "exception": false,
     "start_time": "2021-03-09T20:24:18.932138",
     "status": "completed"
    },
    "tags": []
   },
   "outputs": [
    {
     "name": "stdout",
     "output_type": "stream",
     "text": [
      "2000/2000 [==============================] - 61s 30ms/step\n"
     ]
    }
   ],
   "source": [
    "### Prediction for test data\n",
    "predict = model.predict(test_padded)\n"
   ]
  },
  {
   "cell_type": "code",
   "execution_count": 28,
   "metadata": {
    "execution": {
     "iopub.execute_input": "2021-03-09T20:27:45.212013Z",
     "iopub.status.busy": "2021-03-09T20:27:45.211143Z",
     "iopub.status.idle": "2021-03-09T20:27:45.214214Z",
     "shell.execute_reply": "2021-03-09T20:27:45.214719Z"
    },
    "papermill": {
     "duration": 1.075531,
     "end_time": "2021-03-09T20:27:45.214871",
     "exception": false,
     "start_time": "2021-03-09T20:27:44.139340",
     "status": "completed"
    },
    "tags": []
   },
   "outputs": [
    {
     "name": "stdout",
     "output_type": "stream",
     "text": [
      "Predicted values are [[2.6142646e-03 9.8464727e-05 2.7000817e-04 1.5823255e-04 2.6552609e-04\n",
      "  2.6733649e-04]\n",
      " [4.8462853e-01 6.0276347e-03 7.9646237e-02 1.3560446e-02 1.0587261e-01\n",
      "  2.5179550e-02]\n",
      " [5.4247860e-02 4.2548426e-04 6.1165285e-03 1.3573994e-03 6.8942332e-03\n",
      "  3.4298110e-03]\n",
      " ...\n",
      " [5.8008868e-01 9.4022807e-03 1.4380330e-01 1.7856222e-02 1.6481401e-01\n",
      "  3.8436171e-02]\n",
      " [9.9027407e-01 3.0803615e-01 9.3747634e-01 3.2170400e-02 7.8010780e-01\n",
      "  8.2258373e-02]\n",
      " [3.0955119e-02 2.7438483e-04 2.9574793e-03 7.4322644e-04 3.2329888e-03\n",
      "  1.8593018e-03]]\n"
     ]
    }
   ],
   "source": [
    "print(\"Predicted values are\",predict)"
   ]
  },
  {
   "cell_type": "code",
   "execution_count": 29,
   "metadata": {
    "execution": {
     "iopub.execute_input": "2021-03-09T20:27:47.428139Z",
     "iopub.status.busy": "2021-03-09T20:27:47.427570Z",
     "iopub.status.idle": "2021-03-09T20:27:47.451171Z",
     "shell.execute_reply": "2021-03-09T20:27:47.450694Z"
    },
    "papermill": {
     "duration": 1.152947,
     "end_time": "2021-03-09T20:27:47.451343",
     "exception": false,
     "start_time": "2021-03-09T20:27:46.298396",
     "status": "completed"
    },
    "tags": []
   },
   "outputs": [
    {
     "name": "stderr",
     "output_type": "stream",
     "text": [
      "/var/folders/1m/v10vjxqd235fn30s91s6nnx40000gn/T/ipykernel_13050/693669945.py:4: FutureWarning: In a future version of pandas all arguments of concat except for the argument 'objs' will be keyword-only.\n",
      "  final_predict_test = pd.concat([pd.DataFrame(predict, columns=target_cols)], 1)\n",
      "/var/folders/1m/v10vjxqd235fn30s91s6nnx40000gn/T/ipykernel_13050/693669945.py:6: FutureWarning: In a future version of pandas all arguments of concat except for the argument 'objs' will be keyword-only.\n",
      "  final_predict_test = pd.concat([t1,final_predict_test],1)\n"
     ]
    },
    {
     "data": {
      "text/html": [
       "<div>\n",
       "<style scoped>\n",
       "    .dataframe tbody tr th:only-of-type {\n",
       "        vertical-align: middle;\n",
       "    }\n",
       "\n",
       "    .dataframe tbody tr th {\n",
       "        vertical-align: top;\n",
       "    }\n",
       "\n",
       "    .dataframe thead th {\n",
       "        text-align: right;\n",
       "    }\n",
       "</style>\n",
       "<table border=\"1\" class=\"dataframe\">\n",
       "  <thead>\n",
       "    <tr style=\"text-align: right;\">\n",
       "      <th></th>\n",
       "      <th>id</th>\n",
       "      <th>toxic</th>\n",
       "      <th>severe_toxic</th>\n",
       "      <th>obscene</th>\n",
       "      <th>threat</th>\n",
       "      <th>insult</th>\n",
       "      <th>identity_hate</th>\n",
       "    </tr>\n",
       "  </thead>\n",
       "  <tbody>\n",
       "    <tr>\n",
       "      <th>0</th>\n",
       "      <td>00001cee341fdb12</td>\n",
       "      <td>0.002614</td>\n",
       "      <td>0.000098</td>\n",
       "      <td>0.000270</td>\n",
       "      <td>0.000158</td>\n",
       "      <td>0.000266</td>\n",
       "      <td>0.000267</td>\n",
       "    </tr>\n",
       "    <tr>\n",
       "      <th>1</th>\n",
       "      <td>0000247867823ef7</td>\n",
       "      <td>0.484629</td>\n",
       "      <td>0.006028</td>\n",
       "      <td>0.079646</td>\n",
       "      <td>0.013560</td>\n",
       "      <td>0.105873</td>\n",
       "      <td>0.025180</td>\n",
       "    </tr>\n",
       "    <tr>\n",
       "      <th>2</th>\n",
       "      <td>00013b17ad220c46</td>\n",
       "      <td>0.054248</td>\n",
       "      <td>0.000425</td>\n",
       "      <td>0.006117</td>\n",
       "      <td>0.001357</td>\n",
       "      <td>0.006894</td>\n",
       "      <td>0.003430</td>\n",
       "    </tr>\n",
       "    <tr>\n",
       "      <th>3</th>\n",
       "      <td>00017563c3f7919a</td>\n",
       "      <td>0.002271</td>\n",
       "      <td>0.000092</td>\n",
       "      <td>0.000245</td>\n",
       "      <td>0.000143</td>\n",
       "      <td>0.000235</td>\n",
       "      <td>0.000241</td>\n",
       "    </tr>\n",
       "    <tr>\n",
       "      <th>4</th>\n",
       "      <td>00017695ad8997eb</td>\n",
       "      <td>0.001967</td>\n",
       "      <td>0.000086</td>\n",
       "      <td>0.000214</td>\n",
       "      <td>0.000129</td>\n",
       "      <td>0.000203</td>\n",
       "      <td>0.000220</td>\n",
       "    </tr>\n",
       "  </tbody>\n",
       "</table>\n",
       "</div>"
      ],
      "text/plain": [
       "                 id     toxic  severe_toxic   obscene    threat    insult  \\\n",
       "0  00001cee341fdb12  0.002614      0.000098  0.000270  0.000158  0.000266   \n",
       "1  0000247867823ef7  0.484629      0.006028  0.079646  0.013560  0.105873   \n",
       "2  00013b17ad220c46  0.054248      0.000425  0.006117  0.001357  0.006894   \n",
       "3  00017563c3f7919a  0.002271      0.000092  0.000245  0.000143  0.000235   \n",
       "4  00017695ad8997eb  0.001967      0.000086  0.000214  0.000129  0.000203   \n",
       "\n",
       "   identity_hate  \n",
       "0       0.000267  \n",
       "1       0.025180  \n",
       "2       0.003430  \n",
       "3       0.000241  \n",
       "4       0.000220  "
      ]
     },
     "execution_count": 29,
     "metadata": {},
     "output_type": "execute_result"
    }
   ],
   "source": [
    "### predicted probabilities of each id in the test set, for all the target columns\n",
    "\n",
    "target_cols = np.array(['toxic','severe_toxic','obscene', 'threat','insult', 'identity_hate'])\n",
    "final_predict_test = pd.concat([pd.DataFrame(predict, columns=target_cols)], 1)\n",
    "t1 = test['id']\n",
    "final_predict_test = pd.concat([t1,final_predict_test],1)\n",
    "final_predict_test.head()"
   ]
  },
  {
   "cell_type": "code",
   "execution_count": 31,
   "metadata": {},
   "outputs": [],
   "source": [
    "y_actual = df_combined_test\n",
    "y_actual.drop(columns=\"comment\",inplace=True)"
   ]
  },
  {
   "cell_type": "code",
   "execution_count": 33,
   "metadata": {},
   "outputs": [],
   "source": [
    "y_pred = predict\n",
    "y_pred = (y_pred > 0.5).astype(int)"
   ]
  },
  {
   "cell_type": "code",
   "execution_count": 34,
   "metadata": {},
   "outputs": [
    {
     "name": "stdout",
     "output_type": "stream",
     "text": [
      "Accuracy: 0.8754571884085154\n",
      "Precision: 0.6038234184379323\n",
      "Recall: 0.6622982480342117\n",
      "F1-score: 0.6317105263157895\n"
     ]
    }
   ],
   "source": [
    "from sklearn.metrics import accuracy_score, precision_score, recall_score, f1_score\n",
    "\n",
    "# Assuming y_actual contains the true labels and y_predicted contains the predicted labels\n",
    "# You can replace these with your actual and predicted labels # Replace with your true labels\n",
    "y_predicted =y_pred# Replace with your predicted labels\n",
    "\n",
    "# Calculate accuracy\n",
    "accuracy = accuracy_score(y_actual, y_predicted)\n",
    "\n",
    "# Calculate precision, recall, and F1-score\n",
    "precision = precision_score(y_actual, y_predicted,average='micro')\n",
    "recall = recall_score(y_actual, y_predicted,average='micro')\n",
    "f1 = f1_score(y_actual, y_predicted,average='micro')\n",
    "\n",
    "# Print the results\n",
    "print(f\"Accuracy: {accuracy}\")\n",
    "print(f\"Precision: {precision}\")\n",
    "print(f\"Recall: {recall}\")\n",
    "print(f\"F1-score: {f1}\")"
   ]
  },
  {
   "cell_type": "code",
   "execution_count": 35,
   "metadata": {},
   "outputs": [],
   "source": [
    "input= [\"shit\"]\n",
    "tokenizer = text.Tokenizer(num_words=max_features)\n",
    "tokenizer.fit_on_texts(list(X_train1) + list(X_test1))\n",
    "def custom(input):\n",
    "    input = tokenizer.texts_to_sequences(input)\n",
    "    input = sequence.pad_sequences(input, maxlen=maxlen)\n",
    "    pred = model.predict(input)\n",
    "    toxicity_classes = [\"toxic\", \"severe_toxic\", \"obscene\", \"threat\", \"insult\", \"identity_hate\"]\n",
    "    j=0\n",
    "    for i in pred[0]:\n",
    "        if i > 0.5:\n",
    "            pred[0][j]=1\n",
    "        else:\n",
    "            pred[0][j]=0\n",
    "        j = j+1\n",
    "    for i, class_name in enumerate(toxicity_classes):\n",
    "        print(f\"{class_name}: {pred[0][i]}\")"
   ]
  },
  {
   "cell_type": "code",
   "execution_count": 36,
   "metadata": {},
   "outputs": [
    {
     "name": "stdout",
     "output_type": "stream",
     "text": [
      "1/1 [==============================] - 0s 21ms/step\n",
      "toxic: 1.0\n",
      "severe_toxic: 0.0\n",
      "obscene: 1.0\n",
      "threat: 0.0\n",
      "insult: 1.0\n",
      "identity_hate: 0.0\n"
     ]
    }
   ],
   "source": [
    "custom(input)"
   ]
  },
  {
   "cell_type": "code",
   "execution_count": 17,
   "metadata": {
    "execution": {
     "iopub.execute_input": "2021-03-09T20:27:49.605616Z",
     "iopub.status.busy": "2021-03-09T20:27:49.604979Z",
     "iopub.status.idle": "2021-03-09T20:27:49.608286Z",
     "shell.execute_reply": "2021-03-09T20:27:49.607807Z"
    },
    "papermill": {
     "duration": 1.093393,
     "end_time": "2021-03-09T20:27:49.608428",
     "exception": false,
     "start_time": "2021-03-09T20:27:48.515035",
     "status": "completed"
    },
    "tags": []
   },
   "outputs": [],
   "source": [
    "#### Complete description of classification system using neural networks\n",
    "\n",
    "## This classification system is built using LSTM which is a special type of RNN's. I have used Keras library to build neural network.\n",
    "## Recurrent Neural networks are used mostly for sequential data. We have sequential data(sentences). RNN's store information in their \"memory\".\n",
    "## Recurrent Neural networks stores the information about the computations which has already been performed.\n",
    "## Variety of RNN achitectures are available based on the need of the user. I have used LSTM which is a special type of RNN.\n",
    "## Even though RNN are good for sequence modelling, it still have issues and it tends to have vanishing gradient problem.\n",
    "## Vanishing gradient problem is faced by neural networks which uses activation function having small gradient(0 to 1).\n",
    "## During backpropagation phase, these gradients either tend to become 0 or they vanishes. This happens because RNN's are not\n",
    "## capable of handling long-term dependencies. In order to avoid vanishing gradient problem LSTM are developed. \n",
    "## LSTM comes with LSTM cell. It helps to model and keep track of long term dependencies. \n",
    "\n",
    "### Process performed in this classification model are mentioned below.\n",
    "## Reading the dataset using pandas dataframe and checking whether it contains any null observations or not. There are no nulls in this dataset.\n",
    "## Many people clean the data first and then perform visualizations. I performed visualizations first. \n",
    "## I created 4 visualizations. \n",
    "## 1st visualization is a Bar graph of total number of comments per label. It is helpful in identifying the total number of comments per label\n",
    "## 2nd visualization is a Bar graph of Total No. of labels in a sentence against Total no. of sentences. \n",
    "## From 2nd visualization we can observe whether a sentence belongs to only one category or many categories. We can say that\n",
    "## there are many sentences which are not classified(label 0) but many sentences falls under more than 1 category.\n",
    "## 3rd Visualization is a Graph of individual class against the total no. of labelled and unlabelled sentences for the same class. \n",
    "## 4th Visualization is a Correlation graph(matrix) between different variables\n",
    "\n",
    "## From visualization we can conclude that,  1) A single sentence can have multiple labels (categories).\n",
    "## 2) Some labels are highely correlated to each other.\n",
    "## 3) This is multi label classification problem. Hence we can use sigmoid function in the output layer.\n",
    "\n",
    "### Next part includes cleaning the data. Data cleaning part is performed on the input text. \n",
    "## I created a function, which performs below activities: \n",
    "## 1) conversion of contraction words to expanded words , 2) removing stopwords , 3) lowercasing the words\n",
    "## 4) removing the non - alphanumeric characters   5) removing the extra spaces between words\n",
    "\n",
    "### Once we have cleaned the data, next part is creating input feature vectors.  \n",
    "## Tokenizer class from keras library is used. 40000 words has been selected based on the frequency of the words and assigned a number using keras tokenizer\n",
    "## Training dataset consists of sentences. Every sentence is made up of words. The number given to the words by the keras \n",
    "## tokenizer are used to build up a sentence. Padding is used to fix the sentence length to 150 words per sentence. \n",
    "\n",
    "\n",
    "### Input features are generated. Now its time to build a model. Model contains an Input embedding layer of 128 Hidden units.\n",
    "## Models contains 2 LSTM layers of 64 Hidden units and 1 output layer of 6 Hiddent units having sigmoid activation function.\n",
    "##Input to the neural network is given in the shape of (159571, 150).\n",
    "\n",
    "### Next part is compiling the model and training it on training dataset. Training dataset is divided in training and validation dataset\n",
    "##  Binary_crossentropy is used as a loss function. Adam optimizer is used. Accuracy metric has been used.\n",
    "## batch_size is 32 . These are the Number of samples that goes through the network at a time and calculates the loss by\n",
    "## updating the parameters.I used only 1 epoch because I got almost 97% accuracy in 1 iteration.\n"
   ]
  }
 ],
 "metadata": {
  "kernelspec": {
   "display_name": "Python 3",
   "language": "python",
   "name": "python3"
  },
  "language_info": {
   "codemirror_mode": {
    "name": "ipython",
    "version": 3
   },
   "file_extension": ".py",
   "mimetype": "text/x-python",
   "name": "python",
   "nbconvert_exporter": "python",
   "pygments_lexer": "ipython3",
   "version": "3.10.13"
  },
  "papermill": {
   "default_parameters": {},
   "duration": 1045.304424,
   "end_time": "2021-03-09T20:27:53.353386",
   "environment_variables": {},
   "exception": null,
   "input_path": "__notebook__.ipynb",
   "output_path": "__notebook__.ipynb",
   "parameters": {},
   "start_time": "2021-03-09T20:10:28.048962",
   "version": "2.2.2"
  }
 },
 "nbformat": 4,
 "nbformat_minor": 4
}
